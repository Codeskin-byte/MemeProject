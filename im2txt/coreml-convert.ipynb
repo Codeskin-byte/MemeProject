{
 "cells": [
  {
   "cell_type": "code",
   "execution_count": 1,
   "metadata": {},
   "outputs": [
    {
     "name": "stdout",
     "output_type": "stream",
     "text": [
      "Automatic pdb calling has been turned ON\n"
     ]
    }
   ],
   "source": [
    "import urllib, os, sys, zipfile\n",
    "from os.path import dirname\n",
    "import numpy as np\n",
    "import tensorflow as tf\n",
    "from tensorflow.core.framework import graph_pb2\n",
    "from tensorflow.python.tools.freeze_graph import freeze_graph\n",
    "import tfcoreml\n",
    "import inference_wrapper\n",
    "import configuration\n",
    "from coremltools.proto import NeuralNetwork_pb2\n",
    "from PIL import Image\n",
    "%pdb on"
   ]
  },
  {
   "cell_type": "code",
   "execution_count": 2,
   "metadata": {},
   "outputs": [],
   "source": [
    "checkpoint_file = './trainlogIncNEW/model.ckpt-1000000'\n",
    "pre_frozen_model_file = './frozen_model_textgenNEW.pb'\n",
    "frozen_model_file = './frozen_model_textgenNEW.pb'\n",
    "#output_node_names = ['lstm/initial_state']\n",
    "output_node_names = ['softmax','lstm/state',\n",
    "'lstm/split',\n",
    "'lstm/basic_lstm_cell/concat_1',\n",
    "'lstm/basic_lstm_cell/split_1',\n",
    "'lstm/basic_lstm_cell/einsum_1/MatMul',\n",
    "'lstm/basic_lstm_cell/einsum/MatMul',\n",
    "'lstm/basic_lstm_cell/concat_2',]\n",
    "#'lstm/basic_lstm_cell/einsum/MatMul',\n",
    "#'lstm/basic_lstm_cell/einsum/Reshape',\n",
    "#'lstm__basic_lstm_cell__einsum_1__Reshape__0',\n",
    "#'lstm/basic_lstm_cell/einsum_1/MatMul',\n",
    "#'lstm__basic_lstm_cell__einsum__Reshape_1__0',\n",
    "# 'lstm__basic_lstm_cell__einsum_1__Reshape_1__0',                    \n",
    "#'lstm/basic_lstm_cell/concat_2']\n",
    "# output_node_names = ['lstm/split']\n",
    "# original_output_node_names = ['softmax','lstm/state']\n",
    "# input_node_names = ['image_feed', 'seq_embeddings','lstm/state_feed']\n",
    "#input_node_names = ['image_feed']\n",
    "input_node_names = ['seq_embeddings','lstm/state_feed']\n",
    "beam_size = 2"
   ]
  },
  {
   "cell_type": "code",
   "execution_count": 3,
   "metadata": {},
   "outputs": [
    {
     "name": "stdout",
     "output_type": "stream",
     "text": [
      "INFO:tensorflow:Building model.\n",
      "About to decide if splitting\n",
      "new_h Tensor(\"lstm/basic_lstm_cell/Mul_2:0\", shape=(1, 512), dtype=float32)\n",
      "new_state LSTMStateTuple(c=<tf.Tensor 'lstm/basic_lstm_cell/Add_1:0' shape=(1, 512) dtype=float32>, h=<tf.Tensor 'lstm/basic_lstm_cell/Mul_2:0' shape=(1, 512) dtype=float32>)\n",
      "About to decide if splitting\n",
      "It's splitting\n",
      "h Tensor(\"lstm/Squeeze_1:0\", shape=(1, 2, 512), dtype=float32)\n",
      "inputs Tensor(\"seq_embeddings:0\", shape=(1, 2, 300), dtype=float32)\n",
      "gate_inputs0 Tensor(\"lstm/basic_lstm_cell/einsum/Reshape_1:0\", shape=(1, 1, 2048), dtype=float32)\n",
      "gate_inputs1 Tensor(\"lstm/basic_lstm_cell/einsum_1/Reshape_1:0\", shape=(1, 1, 2048), dtype=float32)\n",
      "squeeze Tensor(\"lstm/basic_lstm_cell/Squeeze_2:0\", shape=(812,), dtype=float32)\n",
      "<tf.Variable 'lstm/basic_lstm_cell/kernel:0' shape=(812, 2048) dtype=float32_ref>\n",
      "gate_inputs Tensor(\"lstm/basic_lstm_cell/concat_2:0\", shape=(1, 2, 2048), dtype=float32)\n",
      "new_h Tensor(\"lstm/basic_lstm_cell/Mul_5:0\", shape=(1, 2, 512), dtype=float32)\n",
      "new_state LSTMStateTuple(c=<tf.Tensor 'lstm/basic_lstm_cell/Add_3:0' shape=(1, 2, 512) dtype=float32>, h=<tf.Tensor 'lstm/basic_lstm_cell/Mul_5:0' shape=(1, 2, 512) dtype=float32>)\n",
      "lstm_outputs Tensor(\"lstm/basic_lstm_cell/Mul_5:0\", shape=(1, 2, 512), dtype=float32)\n",
      "state_output LSTMStateTuple(c=<tf.Tensor 'lstm/basic_lstm_cell/Add_3:0' shape=(1, 2, 512) dtype=float32>, h=<tf.Tensor 'lstm/basic_lstm_cell/Mul_5:0' shape=(1, 2, 512) dtype=float32>)\n",
      "BUILDING DENSE\n",
      "MATMUL(TENSORDOT) w/ SPLITTING\n"
     ]
    }
   ],
   "source": [
    "# Build the inference graph.\n",
    "g = tf.Graph()\n",
    "with g.as_default():\n",
    "    model = inference_wrapper.InferenceWrapper()\n",
    "    restore_fn = model.build_graph_from_config(configuration.ModelConfig(),\n",
    "                                               checkpoint_file)\n",
    "g.finalize()"
   ]
  },
  {
   "cell_type": "code",
   "execution_count": 4,
   "metadata": {},
   "outputs": [
    {
     "data": {
      "text/plain": [
       "47084205"
      ]
     },
     "execution_count": 4,
     "metadata": {},
     "output_type": "execute_result"
    }
   ],
   "source": [
    "# Write the graph\n",
    "tf_model_path = './log/pre_graph_textgenNEW.pb'\n",
    "tf.train.write_graph(\n",
    "    g,\n",
    "    './log',\n",
    "    'pre_graph_textgenNEW.pb',\n",
    "    as_text=False,\n",
    ")\n",
    "\n",
    "with open(tf_model_path, 'rb') as f:\n",
    "    serialized = f.read()\n",
    "tf.reset_default_graph()\n",
    "original_gdef = tf.GraphDef()\n",
    "original_gdef.ParseFromString(serialized)"
   ]
  },
  {
   "cell_type": "code",
   "execution_count": 5,
   "metadata": {},
   "outputs": [],
   "source": [
    "from tensorflow.python.tools import strip_unused_lib\n",
    "from tensorflow.python.framework import dtypes\n",
    "from tensorflow.python.platform import gfile\n",
    "\n",
    "gdef = strip_unused_lib.strip_unused(\n",
    "        input_graph_def = original_gdef,\n",
    "        input_node_names = input_node_names,\n",
    "        output_node_names = output_node_names,\n",
    "        placeholder_type_enum = dtypes.float32.as_datatype_enum)\n",
    "# Save it to an output file\n",
    "with gfile.GFile(pre_frozen_model_file, 'wb') as f:\n",
    "    f.write(gdef.SerializeToString())"
   ]
  },
  {
   "cell_type": "code",
   "execution_count": 6,
   "metadata": {},
   "outputs": [
    {
     "name": "stdout",
     "output_type": "stream",
     "text": [
      "INFO:tensorflow:Restoring parameters from ./trainlogIncNEW/model.ckpt-1000000\n",
      "INFO:tensorflow:Froze 4 variables.\n",
      "Converted 4 variables to const ops.\n"
     ]
    }
   ],
   "source": [
    "# Call freeze graph\n",
    "freeze_graph(input_graph=pre_frozen_model_file,\n",
    "             input_saver='',\n",
    "             input_binary=True,\n",
    "             input_checkpoint=checkpoint_file,\n",
    "             output_node_names=','.join(output_node_names),\n",
    "             restore_op_name='save/restore_all',\n",
    "             filename_tensor_name='save/Const:0',\n",
    "             output_graph=frozen_model_file,\n",
    "             clear_devices=True,\n",
    "             initializer_nodes='')"
   ]
  },
  {
   "cell_type": "code",
   "execution_count": 7,
   "metadata": {},
   "outputs": [
    {
     "name": "stdout",
     "output_type": "stream",
     "text": [
      "['softmax:0', 'lstm/state:0', 'lstm/split:0', 'lstm/split:1', 'lstm/basic_lstm_cell/concat_1:0', 'lstm/basic_lstm_cell/split_1:0', 'lstm/basic_lstm_cell/split_1:1', 'lstm/basic_lstm_cell/einsum_1/MatMul:0', 'lstm/basic_lstm_cell/einsum/MatMul:0', 'lstm/basic_lstm_cell/concat_2:0']\n"
     ]
    }
   ],
   "source": [
    "input_tensor_shapes = {\n",
    "     #'image_feed:0': [299, 299, 3],\n",
    "    'seq_embeddings:0': [1, beam_size, 300],\n",
    "    'lstm/state_feed:0': [1, beam_size, 1024],\n",
    "}\n",
    "coreml_model_file = './Textgen_NEW.mlmodel'\n",
    "# output_tensor_names = ['softmax:0','lstm/state:0','lstm/initial_state:0']\n",
    "# output_tensor_names = ['lstm/initial_state:0']\n",
    "output_tensor_names = [[node + ':0'] if not 'split' in node else [node + ':0',node + ':1'] for node in output_node_names]\n",
    "output_tensor_names = [item for sublist in output_tensor_names for item in sublist]\n",
    "print(output_tensor_names)"
   ]
  },
  {
   "cell_type": "code",
   "execution_count": 8,
   "metadata": {},
   "outputs": [
    {
     "name": "stdout",
     "output_type": "stream",
     "text": [
      "Shapes not found for 23 tensors. Executing graph to determine shapes. \n",
      "Automatic shape interpretation succeeded for input blob seq_embeddings:0\n",
      "Automatic shape interpretation succeeded for input blob lstm/state_feed:0\n",
      "1/85: Analysing op name: seq_embeddings ( type:  Placeholder )\n",
      "Skipping name of placeholder\n",
      "2/85: Analysing op name: lstm/basic_lstm_cell/kernel ( type:  Const )\n",
      "3/85: Analysing op name: lstm/basic_lstm_cell/kernel/read ( type:  Identity )\n",
      "4/85: Analysing op name: lstm/basic_lstm_cell/bias ( type:  Const )\n",
      "5/85: Analysing op name: lstm/basic_lstm_cell/bias/read ( type:  Identity )\n",
      "6/85: Analysing op name: lstm/state_feed ( type:  Placeholder )\n",
      "Skipping name of placeholder\n",
      "7/85: Analysing op name: lstm/ExpandDims/dim ( type:  Const )\n",
      "8/85: Analysing op name: lstm/ExpandDims ( type:  ExpandDims )\n",
      "9/85: Analysing op name: lstm/split/split_dim ( type:  Const )\n",
      "10/85: Analysing op name: lstm/split ( type:  Split )\n",
      "11/85: Analysing op name: lstm/Squeeze ( type:  Squeeze )\n",
      "12/85: Analysing op name: lstm/Squeeze_1 ( type:  Squeeze )\n",
      "13/85: Analysing op name: lstm/basic_lstm_cell/concat_1/axis ( type:  Const )\n",
      "14/85: Analysing op name: lstm/basic_lstm_cell/concat_1 ( type:  ConcatV2 )\n",
      "15/85: Analysing op name: lstm/basic_lstm_cell/ExpandDims/dim ( type:  Const )\n",
      "16/85: Analysing op name: lstm/basic_lstm_cell/ExpandDims ( type:  ExpandDims )\n",
      "17/85: Analysing op name: lstm/basic_lstm_cell/split_1/split_dim ( type:  Const )\n",
      "18/85: Analysing op name: lstm/basic_lstm_cell/split_1 ( type:  Split )\n"
     ]
    },
    {
     "ename": "AssertionError",
     "evalue": "Split op case not handled. Input shape = [1, 1, 2, 812], output shape = [1, 1, 1, 812]",
     "output_type": "error",
     "traceback": [
      "\u001b[0;31m---------------------------------------------------------------------------\u001b[0m",
      "\u001b[0;31mAssertionError\u001b[0m                            Traceback (most recent call last)",
      "\u001b[0;32m<ipython-input-8-42f98b5e72ba>\u001b[0m in \u001b[0;36m<module>\u001b[0;34m()\u001b[0m\n\u001b[1;32m      7\u001b[0m         \u001b[0minput_name_shape_dict\u001b[0m\u001b[0;34m=\u001b[0m\u001b[0minput_tensor_shapes\u001b[0m\u001b[0;34m,\u001b[0m\u001b[0;34m\u001b[0m\u001b[0m\n\u001b[1;32m      8\u001b[0m \u001b[0;31m#         output_feature_names=output_feature_names + ['lstm/basic_lstm_cell/MatMul_1:0'],\u001b[0m\u001b[0;34m\u001b[0m\u001b[0;34m\u001b[0m\u001b[0m\n\u001b[0;32m----> 9\u001b[0;31m         \u001b[0moutput_feature_names\u001b[0m\u001b[0;34m=\u001b[0m\u001b[0moutput_tensor_names\u001b[0m\u001b[0;34m,\u001b[0m\u001b[0;34m\u001b[0m\u001b[0m\n\u001b[0m\u001b[1;32m     10\u001b[0m         \u001b[0;31m#image_input_names = ['image_feed:0'],\u001b[0m\u001b[0;34m\u001b[0m\u001b[0;34m\u001b[0m\u001b[0m\n\u001b[1;32m     11\u001b[0m          \u001b[0;31m#red_bias = -1,\u001b[0m\u001b[0;34m\u001b[0m\u001b[0;34m\u001b[0m\u001b[0m\n",
      "\u001b[0;32m/Users/ALP/PycharmProjects/MemeProject/venv3/lib/python2.7/site-packages/tfcoreml/_tf_coreml_converter.pyc\u001b[0m in \u001b[0;36mconvert\u001b[0;34m(tf_model_path, mlmodel_path, output_feature_names, input_name_shape_dict, image_input_names, is_bgr, red_bias, green_bias, blue_bias, gray_bias, image_scale, class_labels, predicted_feature_name, predicted_probabilities_output, add_custom_layers, custom_conversion_functions)\u001b[0m\n\u001b[1;32m    550\u001b[0m       \u001b[0mpredicted_probabilities_output\u001b[0m\u001b[0;34m=\u001b[0m\u001b[0mpredicted_probabilities_output\u001b[0m\u001b[0;34m,\u001b[0m\u001b[0;34m\u001b[0m\u001b[0m\n\u001b[1;32m    551\u001b[0m       \u001b[0madd_custom_layers\u001b[0m\u001b[0;34m=\u001b[0m\u001b[0madd_custom_layers\u001b[0m\u001b[0;34m,\u001b[0m\u001b[0;34m\u001b[0m\u001b[0m\n\u001b[0;32m--> 552\u001b[0;31m       custom_conversion_functions=custom_conversion_functions)\n\u001b[0m",
      "\u001b[0;32m/Users/ALP/PycharmProjects/MemeProject/venv3/lib/python2.7/site-packages/tfcoreml/_tf_coreml_converter.pyc\u001b[0m in \u001b[0;36m_convert_pb_to_mlmodel\u001b[0;34m(tf_model_path, mlmodel_path, output_feature_names, input_name_shape_dict, image_input_names, is_bgr, red_bias, green_bias, blue_bias, gray_bias, image_scale, class_labels, predicted_feature_name, predicted_probabilities_output, add_custom_layers, custom_conversion_functions)\u001b[0m\n\u001b[1;32m    313\u001b[0m   \u001b[0mcontext\u001b[0m\u001b[0;34m.\u001b[0m\u001b[0madd_custom_layers\u001b[0m \u001b[0;34m=\u001b[0m \u001b[0madd_custom_layers\u001b[0m\u001b[0;34m\u001b[0m\u001b[0m\n\u001b[1;32m    314\u001b[0m   \u001b[0mcontext\u001b[0m\u001b[0;34m.\u001b[0m\u001b[0mcustom_conversion_functions\u001b[0m \u001b[0;34m=\u001b[0m \u001b[0mcustom_conversion_functions\u001b[0m\u001b[0;34m\u001b[0m\u001b[0m\n\u001b[0;32m--> 315\u001b[0;31m   \u001b[0mconvert_ops_to_layers\u001b[0m\u001b[0;34m(\u001b[0m\u001b[0mcontext\u001b[0m\u001b[0;34m)\u001b[0m\u001b[0;34m\u001b[0m\u001b[0m\n\u001b[0m\u001b[1;32m    316\u001b[0m   \u001b[0msess\u001b[0m\u001b[0;34m.\u001b[0m\u001b[0mclose\u001b[0m\u001b[0;34m(\u001b[0m\u001b[0;34m)\u001b[0m\u001b[0;34m\u001b[0m\u001b[0m\n\u001b[1;32m    317\u001b[0m \u001b[0;34m\u001b[0m\u001b[0m\n",
      "\u001b[0;32m/Users/ALP/PycharmProjects/MemeProject/venv3/lib/python2.7/site-packages/tfcoreml/_ops_to_layers.pyc\u001b[0m in \u001b[0;36mconvert_ops_to_layers\u001b[0;34m(context)\u001b[0m\n\u001b[1;32m    172\u001b[0m \u001b[0;34m\u001b[0m\u001b[0m\n\u001b[1;32m    173\u001b[0m       \u001b[0;32mif\u001b[0m \u001b[0mtranslation_required\u001b[0m\u001b[0;34m(\u001b[0m\u001b[0mop\u001b[0m\u001b[0;34m,\u001b[0m \u001b[0mcontext\u001b[0m\u001b[0;34m)\u001b[0m\u001b[0;34m:\u001b[0m\u001b[0;34m\u001b[0m\u001b[0m\n\u001b[0;32m--> 174\u001b[0;31m         \u001b[0mtranslator\u001b[0m\u001b[0;34m(\u001b[0m\u001b[0mop\u001b[0m\u001b[0;34m,\u001b[0m \u001b[0mcontext\u001b[0m\u001b[0;34m)\u001b[0m\u001b[0;34m\u001b[0m\u001b[0m\n\u001b[0m\u001b[1;32m    175\u001b[0m       \u001b[0mconnect_skipped_ops\u001b[0m\u001b[0;34m(\u001b[0m\u001b[0mcontext\u001b[0m\u001b[0;34m)\u001b[0m\u001b[0;34m\u001b[0m\u001b[0m\n",
      "\u001b[0;32m/Users/ALP/PycharmProjects/MemeProject/venv3/lib/python2.7/site-packages/tfcoreml/_layers.pyc\u001b[0m in \u001b[0;36msplit\u001b[0;34m(op, context)\u001b[0m\n\u001b[1;32m    114\u001b[0m \u001b[0;34m\u001b[0m\u001b[0m\n\u001b[1;32m    115\u001b[0m \u001b[0;32mdef\u001b[0m \u001b[0msplit\u001b[0m\u001b[0;34m(\u001b[0m\u001b[0mop\u001b[0m\u001b[0;34m,\u001b[0m \u001b[0mcontext\u001b[0m\u001b[0;34m)\u001b[0m\u001b[0;34m:\u001b[0m\u001b[0;34m\u001b[0m\u001b[0m\n\u001b[0;32m--> 116\u001b[0;31m   \u001b[0mss_layers\u001b[0m\u001b[0;34m.\u001b[0m\u001b[0m_add_split\u001b[0m\u001b[0;34m(\u001b[0m\u001b[0mop\u001b[0m\u001b[0;34m,\u001b[0m \u001b[0mcontext\u001b[0m\u001b[0;34m)\u001b[0m\u001b[0;34m\u001b[0m\u001b[0m\n\u001b[0m\u001b[1;32m    117\u001b[0m \u001b[0;34m\u001b[0m\u001b[0m\n\u001b[1;32m    118\u001b[0m \u001b[0;32mdef\u001b[0m \u001b[0mreshape\u001b[0m\u001b[0;34m(\u001b[0m\u001b[0mop\u001b[0m\u001b[0;34m,\u001b[0m \u001b[0mcontext\u001b[0m\u001b[0;34m)\u001b[0m\u001b[0;34m:\u001b[0m\u001b[0;34m\u001b[0m\u001b[0m\n",
      "\u001b[0;32m/Users/ALP/PycharmProjects/MemeProject/venv3/lib/python2.7/site-packages/tfcoreml/_shape_sensitive_layers.pyc\u001b[0m in \u001b[0;36m_add_split\u001b[0;34m(op, context)\u001b[0m\n\u001b[1;32m    215\u001b[0m          \u001b[0mlen\u001b[0m\u001b[0;34m(\u001b[0m\u001b[0mcommon_out_shape\u001b[0m\u001b[0;34m)\u001b[0m \u001b[0;34m==\u001b[0m \u001b[0;36m4\u001b[0m \u001b[0;32mand\u001b[0m\u001b[0;31m \u001b[0m\u001b[0;31m\\\u001b[0m\u001b[0;34m\u001b[0m\u001b[0m\n\u001b[1;32m    216\u001b[0m          \u001b[0mcommon_out_shape\u001b[0m\u001b[0;34m[\u001b[0m\u001b[0;34m:\u001b[0m\u001b[0;36m3\u001b[0m\u001b[0;34m]\u001b[0m \u001b[0;34m==\u001b[0m \u001b[0minput_shape\u001b[0m\u001b[0;34m[\u001b[0m\u001b[0;34m:\u001b[0m\u001b[0;36m3\u001b[0m\u001b[0;34m]\u001b[0m\u001b[0;34m,\u001b[0m\u001b[0;31m \u001b[0m\u001b[0;31m\\\u001b[0m\u001b[0;34m\u001b[0m\u001b[0m\n\u001b[0;32m--> 217\u001b[0;31m         \u001b[0;34m(\u001b[0m\u001b[0;34m'Split op case not handled. Input shape = {}, output shape = {}'\u001b[0m\u001b[0;34m.\u001b[0m\u001b[0mformat\u001b[0m\u001b[0;34m(\u001b[0m\u001b[0mstr\u001b[0m\u001b[0;34m(\u001b[0m\u001b[0minput_shape\u001b[0m\u001b[0;34m)\u001b[0m\u001b[0;34m,\u001b[0m \u001b[0mstr\u001b[0m\u001b[0;34m(\u001b[0m\u001b[0mcommon_out_shape\u001b[0m\u001b[0;34m)\u001b[0m\u001b[0;34m)\u001b[0m\u001b[0;34m)\u001b[0m\u001b[0;34m\u001b[0m\u001b[0m\n\u001b[0m\u001b[1;32m    218\u001b[0m \u001b[0;34m\u001b[0m\u001b[0m\n\u001b[1;32m    219\u001b[0m   \u001b[0mcontext\u001b[0m\u001b[0;34m.\u001b[0m\u001b[0mbuilder\u001b[0m\u001b[0;34m.\u001b[0m\u001b[0madd_split\u001b[0m\u001b[0;34m(\u001b[0m\u001b[0moutput_names\u001b[0m\u001b[0;34m[\u001b[0m\u001b[0;36m0\u001b[0m\u001b[0;34m]\u001b[0m\u001b[0;34m,\u001b[0m \u001b[0minput_name\u001b[0m\u001b[0;34m,\u001b[0m \u001b[0moutput_names\u001b[0m\u001b[0;34m)\u001b[0m\u001b[0;34m\u001b[0m\u001b[0m\n",
      "\u001b[0;31mAssertionError\u001b[0m: Split op case not handled. Input shape = [1, 1, 2, 812], output shape = [1, 1, 1, 812]"
     ]
    },
    {
     "name": "stdout",
     "output_type": "stream",
     "text": [
      "> \u001b[0;32m/Users/ALP/PycharmProjects/MemeProject/venv3/lib/python2.7/site-packages/tfcoreml/_shape_sensitive_layers.py\u001b[0m(217)\u001b[0;36m_add_split\u001b[0;34m()\u001b[0m\n",
      "\u001b[0;32m    215 \u001b[0;31m         \u001b[0mlen\u001b[0m\u001b[0;34m(\u001b[0m\u001b[0mcommon_out_shape\u001b[0m\u001b[0;34m)\u001b[0m \u001b[0;34m==\u001b[0m \u001b[0;36m4\u001b[0m \u001b[0;32mand\u001b[0m\u001b[0;31m \u001b[0m\u001b[0;31m\\\u001b[0m\u001b[0;34m\u001b[0m\u001b[0m\n",
      "\u001b[0m\u001b[0;32m    216 \u001b[0;31m         \u001b[0mcommon_out_shape\u001b[0m\u001b[0;34m[\u001b[0m\u001b[0;34m:\u001b[0m\u001b[0;36m3\u001b[0m\u001b[0;34m]\u001b[0m \u001b[0;34m==\u001b[0m \u001b[0minput_shape\u001b[0m\u001b[0;34m[\u001b[0m\u001b[0;34m:\u001b[0m\u001b[0;36m3\u001b[0m\u001b[0;34m]\u001b[0m\u001b[0;34m,\u001b[0m\u001b[0;31m \u001b[0m\u001b[0;31m\\\u001b[0m\u001b[0;34m\u001b[0m\u001b[0m\n",
      "\u001b[0m\u001b[0;32m--> 217 \u001b[0;31m        \u001b[0;34m(\u001b[0m\u001b[0;34m'Split op case not handled. Input shape = {}, output shape = {}'\u001b[0m\u001b[0;34m.\u001b[0m\u001b[0mformat\u001b[0m\u001b[0;34m(\u001b[0m\u001b[0mstr\u001b[0m\u001b[0;34m(\u001b[0m\u001b[0minput_shape\u001b[0m\u001b[0;34m)\u001b[0m\u001b[0;34m,\u001b[0m \u001b[0mstr\u001b[0m\u001b[0;34m(\u001b[0m\u001b[0mcommon_out_shape\u001b[0m\u001b[0;34m)\u001b[0m\u001b[0;34m)\u001b[0m\u001b[0;34m)\u001b[0m\u001b[0;34m\u001b[0m\u001b[0m\n",
      "\u001b[0m\u001b[0;32m    218 \u001b[0;31m\u001b[0;34m\u001b[0m\u001b[0m\n",
      "\u001b[0m\u001b[0;32m    219 \u001b[0;31m  \u001b[0mcontext\u001b[0m\u001b[0;34m.\u001b[0m\u001b[0mbuilder\u001b[0m\u001b[0;34m.\u001b[0m\u001b[0madd_split\u001b[0m\u001b[0;34m(\u001b[0m\u001b[0moutput_names\u001b[0m\u001b[0;34m[\u001b[0m\u001b[0;36m0\u001b[0m\u001b[0;34m]\u001b[0m\u001b[0;34m,\u001b[0m \u001b[0minput_name\u001b[0m\u001b[0;34m,\u001b[0m \u001b[0moutput_names\u001b[0m\u001b[0;34m)\u001b[0m\u001b[0;34m\u001b[0m\u001b[0m\n",
      "\u001b[0m\n",
      "\n",
      "KeyboardInterrupt\n"
     ]
    }
   ],
   "source": [
    "# Call the converter\n",
    "#output_feature_names = ['lstm/basic_lstm_cell/concat_2:0']\n",
    "\n",
    "coreml_model = tfcoreml.convert(\n",
    "        tf_model_path=frozen_model_file, \n",
    "        mlmodel_path=coreml_model_file, \n",
    "        input_name_shape_dict=input_tensor_shapes,\n",
    "#         output_feature_names=output_feature_names + ['lstm/basic_lstm_cell/MatMul_1:0'],\n",
    "        output_feature_names=output_tensor_names,\n",
    "        #image_input_names = ['image_feed:0'],\n",
    "         #red_bias = -1,\n",
    "         #green_bias = -1,\n",
    "         #blue_bias = -1,\n",
    "         #image_scale = 2.0/255.0\n",
    "#         add_custom_layers=True,\n",
    "#         custom_conversion_functions={\n",
    "#             'lstm/split': _convert_split,\n",
    "#             'lstm/basic_lstm_cell/split_1': _convert_lstmsplit,\n",
    "#             'lstm/basic_lstm_cell/split': _convert_lstmsplit,\n",
    "#         },\n",
    ")"
   ]
  },
  {
   "cell_type": "code",
   "execution_count": null,
   "metadata": {},
   "outputs": [],
   "source": [
    "Image.fromarray(np.uint8(np.ones([299,299,3])*100))"
   ]
  },
  {
   "cell_type": "code",
   "execution_count": null,
   "metadata": {},
   "outputs": [],
   "source": [
    "np.random.seed(2)\n",
    "y = np.array([[[x,x]] for x in np.random.rand(300)])\n",
    "print(y[10,0,0])\n",
    "print(y[10,0,1])"
   ]
  },
  {
   "cell_type": "code",
   "execution_count": null,
   "metadata": {},
   "outputs": [],
   "source": [
    "np.random.seed(2)\n",
    "seq_embeddings = np.ones([300,1,2])*0.5 #np.array([[[x,x]] for x in np.ones(300)*0.5])\n",
    "state_feed = np.ones([1024,1,2])*0.6 #np.array([[[x,x]] for x in np.ones(1024)*0.6])\n",
    "\n",
    "#image_feed = Image.fromarray(np.uint8(np.ones([299,299,3])*100)) #np.ones([3,299,299])\n",
    "coreml_inputs = {\n",
    "    'seq_embeddings__0': seq_embeddings,\n",
    "    'lstm__state_feed__0': state_feed,\n",
    "    #'image_feed__0': image_feed,\n",
    "}\n",
    "coreml_output = coreml_model.predict(coreml_inputs, useCPUOnly=True)\n",
    "# print(coreml_output['lstm__state__0'].shape)\n",
    "# print(coreml_output['softmax__0'].shape)\n",
    "# print(coreml_output['softmax__0'].reshape(38521, 1, 2))\n",
    "# print(coreml_output)\n",
    "print(coreml_output['lstm__state__0'].shape)\n",
    "print(coreml_output['softmax__0'].shape)\n",
    "print(coreml_output['lstm__basic_lstm_cell__split_1__1'].shape)\n",
    "print(coreml_output['lstm__split__1'].shape)\n",
    "#print(coreml_output['lstm__initial_state__0'].shape)"
   ]
  },
  {
   "cell_type": "code",
   "execution_count": null,
   "metadata": {},
   "outputs": [],
   "source": [
    "print(coreml_output['lstm__basic_lstm_cell__split_1__0'][695:705,0,0])\n",
    "print(coreml_output['lstm__basic_lstm_cell__split_1__1'][695:705,0,0])\n",
    "print(coreml_output['lstm__basic_lstm_cell__split_1__1'].shape)"
   ]
  },
  {
   "cell_type": "code",
   "execution_count": null,
   "metadata": {},
   "outputs": [],
   "source": [
    "print(coreml_output['lstm__split__1'][0,0,-10:-1,0,0])\n",
    "print(coreml_output['lstm__split__0'][0,0,-10:-1,0,0])"
   ]
  },
  {
   "cell_type": "code",
   "execution_count": null,
   "metadata": {},
   "outputs": [],
   "source": [
    "print(coreml_output['lstm__basic_lstm_cell__concat_1__0'].shape)\n",
    "print(coreml_output['lstm__basic_lstm_cell__concat_1__0'][0,0,295:305,0,0])\n",
    "print(coreml_output['lstm__basic_lstm_cell__concat_1__0'][0,0,295:305,0,1])"
   ]
  },
  {
   "cell_type": "code",
   "execution_count": null,
   "metadata": {},
   "outputs": [],
   "source": [
    "print(coreml_output['lstm__basic_lstm_cell__split_1__0'][:10,0,0])\n",
    "print(coreml_output['lstm__basic_lstm_cell__split_1__1'][:10,0,0])"
   ]
  },
  {
   "cell_type": "code",
   "execution_count": null,
   "metadata": {},
   "outputs": [],
   "source": [
    "print(coreml_output['lstm__basic_lstm_cell__concat_2__0'][0,0,295:305,0,0])\n",
    "print(coreml_output['lstm__basic_lstm_cell__concat_2__0'][0,0,295:305,0,1])"
   ]
  },
  {
   "cell_type": "code",
   "execution_count": null,
   "metadata": {},
   "outputs": [],
   "source": [
    "print(coreml_output['lstm__state__0'][0,0,:10,0,0])\n",
    "print(coreml_output['lstm__state__0'][0,0,:10,0,1])"
   ]
  },
  {
   "cell_type": "code",
   "execution_count": null,
   "metadata": {},
   "outputs": [],
   "source": [
    "print(coreml_output['lstm__initial_state__0'][0])\n",
    "print(coreml_output['lstm__initial_state__0'][-1])"
   ]
  },
  {
   "cell_type": "code",
   "execution_count": null,
   "metadata": {},
   "outputs": [],
   "source": [
    "print(coreml_output['lstm__state__0'][:,:,:10,:,0])"
   ]
  },
  {
   "cell_type": "code",
   "execution_count": null,
   "metadata": {},
   "outputs": [],
   "source": [
    "state_output = np.loadtxt('stateoutputTEST.txt')"
   ]
  },
  {
   "cell_type": "code",
   "execution_count": null,
   "metadata": {},
   "outputs": [],
   "source": [
    "(state_output[1,:]==coreml_output['lstm__state__0'][0,0,:,0,1])[:50]"
   ]
  },
  {
   "cell_type": "code",
   "execution_count": null,
   "metadata": {},
   "outputs": [],
   "source": [
    "print(state_output[0,377])\n",
    "print(coreml_output['lstm__state__0'][0,0,377,0,0])"
   ]
  },
  {
   "cell_type": "code",
   "execution_count": null,
   "metadata": {},
   "outputs": [],
   "source": [
    "img = np.moveaxis(np.asarray(image) / 256.0, [0, 1, 2], [1, 2, 0])"
   ]
  },
  {
   "cell_type": "code",
   "execution_count": null,
   "metadata": {},
   "outputs": [],
   "source": [
    "coreml_model"
   ]
  },
  {
   "cell_type": "code",
   "execution_count": null,
   "metadata": {},
   "outputs": [],
   "source": [
    "\"\"\" 'image_feed:0': [299, 299, 3],\n",
    "    'seq_embeddings:0': [1, 1, 300],\n",
    "    'lstm/state_feed:0': [1, 1024],\n",
    "\"\"\"\n",
    "coreml_inputs = {\n",
    "    'image_feed__0': image,\n",
    "#     'seq_embeddings__0': np.random.rand(300, 1, 1),\n",
    "#     'lstm__state_feed__0': np.random.rand(1024),\n",
    "}\n",
    "coreml_output = coreml_model.predict(coreml_inputs, useCPUOnly=True)\n",
    "print(list(coreml_output['lstm__initial_state__0'][:20]))"
   ]
  },
  {
   "cell_type": "code",
   "execution_count": null,
   "metadata": {},
   "outputs": [],
   "source": []
  },
  {
   "cell_type": "code",
   "execution_count": null,
   "metadata": {},
   "outputs": [],
   "source": []
  },
  {
   "cell_type": "code",
   "execution_count": null,
   "metadata": {},
   "outputs": [],
   "source": [
    "from IPython.display import clear_output, Image, display, HTML\n",
    "\n",
    "def strip_consts(graph_def, max_const_size=32):\n",
    "    \"\"\"Strip large constant values from graph_def.\"\"\"\n",
    "    strip_def = tf.GraphDef()\n",
    "    for n0 in graph_def.node:\n",
    "        n = strip_def.node.add() \n",
    "        n.MergeFrom(n0)\n",
    "        if n.op == 'Const':\n",
    "            tensor = n.attr['value'].tensor\n",
    "            size = len(tensor.tensor_content)\n",
    "            if size > max_const_size:\n",
    "                tensor.tensor_content = \"<stripped %d bytes>\"%size\n",
    "    return strip_def\n",
    "\n",
    "def show_graph(graph_def, max_const_size=32):\n",
    "    \"\"\"Visualize TensorFlow graph.\"\"\"\n",
    "    if hasattr(graph_def, 'as_graph_def'):\n",
    "        graph_def = graph_def.as_graph_def()\n",
    "    strip_def = strip_consts(graph_def, max_const_size=max_const_size)\n",
    "    code = \"\"\"\n",
    "        <script>\n",
    "          function load() {{\n",
    "            document.getElementById(\"{id}\").pbtxt = {data};\n",
    "          }}\n",
    "        </script>\n",
    "        <link rel=\"import\" href=\"https://tensorboard.appspot.com/tf-graph-basic.build.html\" onload=load()>\n",
    "        <div style=\"height:600px\">\n",
    "          <tf-graph-basic id=\"{id}\"></tf-graph-basic>\n",
    "        </div>\n",
    "    \"\"\".format(data=repr(str(strip_def)), id='graph'+str(np.random.rand()))\n",
    "\n",
    "    iframe = \"\"\"\n",
    "        <iframe seamless style=\"width:1000px;height:620px;border:0\" srcdoc=\"{}\"></iframe>\n",
    "    \"\"\".format(code.replace('\"', '&quot;'))\n",
    "    display(HTML(iframe))"
   ]
  },
  {
   "cell_type": "code",
   "execution_count": null,
   "metadata": {},
   "outputs": [],
   "source": [
    "show_graph(gdef)"
   ]
  },
  {
   "cell_type": "code",
   "execution_count": null,
   "metadata": {},
   "outputs": [],
   "source": []
  },
  {
   "cell_type": "code",
   "execution_count": null,
   "metadata": {},
   "outputs": [],
   "source": [
    "embeddings_bytes = embeddings.flatten().tobytes()"
   ]
  },
  {
   "cell_type": "code",
   "execution_count": null,
   "metadata": {},
   "outputs": [],
   "source": [
    "open('embeddings_bin.bin', 'wb').write(embeddings_bytes)"
   ]
  },
  {
   "cell_type": "code",
   "execution_count": null,
   "metadata": {},
   "outputs": [],
   "source": [
    "import coremltools\n",
    "read_model = coremltools.models.MLModel(coreml_model_file)\n",
    "dir(read_model)"
   ]
  },
  {
   "cell_type": "code",
   "execution_count": null,
   "metadata": {},
   "outputs": [],
   "source": [
    "import coremltools\n",
    "def print_coreml_nn_layer_info(spec):\n",
    "    nn_layers = coremltools.models.utils._get_nn_layers(spec)\n",
    "    for i, layer in enumerate(nn_layers):\n",
    "        if layer.WhichOneof('layer') == 'custom':\n",
    "            print 'layer_id = ', i\n",
    "            print layer\n",
    "        else:\n",
    "            print('{}: layer type: ({}) , inputs: {}, outputs: {}'.\n",
    "              format(i,layer.WhichOneof('layer'), \", \".join([x for x in layer.input]), \", \".join([x for x in layer.output])))\n",
    "\n",
    "print_coreml_nn_layer_info(coreml_model.get_spec())"
   ]
  },
  {
   "cell_type": "code",
   "execution_count": null,
   "metadata": {},
   "outputs": [],
   "source": [
    "# Test the model!!!\n",
    "\n",
    "import PIL\n",
    "from IPython.core.display import Image\n",
    "\n",
    "filename = '/Users/freedmand/Desktop/zelda_driving.jpg'\n",
    "with tf.gfile.GFile(filename, \"rb\") as f:\n",
    "  image = PIL.Image.open(f)\n",
    "  image = image.resize([299,299], PIL.Image.ANTIALIAS)\n",
    "    \n",
    "display(Image(filename, width=299, height=299))"
   ]
  }
 ],
 "metadata": {
  "kernelspec": {
   "display_name": "Python 2",
   "language": "python",
   "name": "python2"
  },
  "language_info": {
   "codemirror_mode": {
    "name": "ipython",
    "version": 2
   },
   "file_extension": ".py",
   "mimetype": "text/x-python",
   "name": "python",
   "nbconvert_exporter": "python",
   "pygments_lexer": "ipython2",
   "version": "2.7.3"
  }
 },
 "nbformat": 4,
 "nbformat_minor": 2
}
