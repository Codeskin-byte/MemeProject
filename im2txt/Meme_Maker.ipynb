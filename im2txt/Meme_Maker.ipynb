{
 "cells": [
  {
   "cell_type": "code",
   "execution_count": 1,
   "metadata": {},
   "outputs": [],
   "source": [
    "from __future__ import absolute_import\n",
    "from __future__ import division\n",
    "from __future__ import print_function\n",
    "from __builtin__ import any as b_any\n",
    "\n",
    "import math\n",
    "import os\n",
    "os.environ[\"CUDA_VISIBLE_DEVICES\"]=\"\"\n",
    "import numpy as np\n",
    "from PIL import Image\n",
    "from alexnet import AlexNet\n",
    "\n",
    "import tensorflow as tf\n",
    "\n",
    "import configuration\n",
    "import inference_wrapper\n",
    "import sys\n",
    "sys.path.insert(0, '/Users/ALP/PycharmProjects/MemeProject/im2txt/inference_utils')\n",
    "import caption_generator\n",
    "import vocabulary"
   ]
  },
  {
   "cell_type": "code",
   "execution_count": 2,
   "metadata": {
    "collapsed": true
   },
   "outputs": [],
   "source": [
    "np.random.seed(2)\n",
    "\n",
    "current_dir = os.getcwd()\n",
    "image_dir = os.path.join(current_dir, 'Jmemes')\n",
    "\n",
    "\n",
    "checkpoint_path=\"trainlogIncNEW\"\n",
    "vocab_file =\"vocab4.txt\"\n",
    "input_files =\"Jmemes\"         \n",
    "\n",
    "tf.logging.set_verbosity(tf.logging.INFO)\n"
   ]
  },
  {
   "cell_type": "code",
   "execution_count": 3,
   "metadata": {},
   "outputs": [
    {
     "name": "stdout",
     "output_type": "stream",
     "text": [
      "INFO:tensorflow:Building model.\n",
      "new_h Tensor(\"lstm/basic_lstm_cell/Mul_2:0\", shape=(1, 512), dtype=float32)\n",
      "new_state LSTMStateTuple(c=<tf.Tensor 'lstm/basic_lstm_cell/Add_1:0' shape=(1, 512) dtype=float32>, h=<tf.Tensor 'lstm/basic_lstm_cell/Mul_2:0' shape=(1, 512) dtype=float32>)\n",
      "new_h Tensor(\"lstm/basic_lstm_cell/Mul_5:0\", shape=(1, 2, 512), dtype=float32)\n",
      "new_state LSTMStateTuple(c=<tf.Tensor 'lstm/basic_lstm_cell/Add_3:0' shape=(1, 2, 512) dtype=float32>, h=<tf.Tensor 'lstm/basic_lstm_cell/Mul_5:0' shape=(1, 2, 512) dtype=float32>)\n",
      "lstm_outputs Tensor(\"lstm/basic_lstm_cell/Mul_5:0\", shape=(1, 2, 512), dtype=float32)\n",
      "state_tuple LSTMStateTuple(c=<tf.Tensor 'lstm/basic_lstm_cell/Add_3:0' shape=(1, 2, 512) dtype=float32>, h=<tf.Tensor 'lstm/basic_lstm_cell/Mul_5:0' shape=(1, 2, 512) dtype=float32>)\n"
     ]
    }
   ],
   "source": [
    "#configuration\n",
    "config = configuration.ModelConfig()\n",
    "\n",
    "g = tf.Graph()\n",
    "with g.as_default():\n",
    "    model = inference_wrapper.InferenceWrapper()\n",
    "    restore_fn = model.build_graph_from_config(config,\n",
    "                                               checkpoint_path)\n",
    "g.finalize()\n"
   ]
  },
  {
   "cell_type": "code",
   "execution_count": null,
   "metadata": {
    "collapsed": true
   },
   "outputs": [],
   "source": [
    "with tf.Session(graph=g) as sess:\n",
    "    # Load the model from checkpoint.\n",
    "    restore_fn(sess)\n",
    "    #print(tf.trainable_variables())\n",
    "    var = [v for v in tf.trainable_variables() if v.name == \"seq_embedding/map:0\"][0]\n",
    "    embeddings = sess.run(var)"
   ]
  },
  {
   "cell_type": "code",
   "execution_count": 4,
   "metadata": {},
   "outputs": [
    {
     "name": "stdout",
     "output_type": "stream",
     "text": [
      "INFO:tensorflow:Initializing vocabulary from file: vocab4.txt\n",
      "INFO:tensorflow:Created vocabulary with 38521 words\n",
      "['/Users/ALP/PycharmProjects/MemeProject/im2txt/Jmemes/NOSE.jpg', '/Users/ALP/PycharmProjects/MemeProject/im2txt/Jmemes/one-does-not-simply.jpg', '/Users/ALP/PycharmProjects/MemeProject/im2txt/Jmemes/y-u-no.jpg']\n",
      "INFO:tensorflow:Running caption generation on 3 files matching Jmemes\n"
     ]
    }
   ],
   "source": [
    "vocab = vocabulary.Vocabulary(vocab_file)\n",
    "\n",
    "with open('Captions.txt','r') as f:\n",
    "    data_captions = f.readlines()\n",
    "data_captions = [s.lower() for s in data_captions]\n",
    "  \n",
    "with open('ordered_memes.txt','r') as f:\n",
    "    ordered_memes = f.readlines()\n",
    "ordered_memes = [meme.replace('\\n','') for meme in ordered_memes]\n",
    "#convert jpg image(s) into iamge representations using alexnet:\n",
    "filenames = [os.path.join(image_dir, f) for f in os.listdir(input_files) if f.endswith('.jpg')]\n",
    "#filenames = [os.path.join(image_dir, f) for f in ordered_memes[150:160] + ['TutorPP.jpg']]\n",
    "print(filenames)\n",
    "tf.logging.info(\"Running caption generation on %d files matching %s\",len(filenames), input_files)\n"
   ]
  },
  {
   "cell_type": "code",
   "execution_count": 5,
   "metadata": {},
   "outputs": [
    {
     "name": "stdout",
     "output_type": "stream",
     "text": [
      "INFO:tensorflow:Loading model from checkpoint: trainlogIncNEW/model.ckpt-1000000\n",
      "INFO:tensorflow:Restoring parameters from trainlogIncNEW/model.ckpt-1000000\n",
      "INFO:tensorflow:Successfully loaded checkpoint: model.ckpt-1000000\n",
      "Captions for image NOSE.jpg:\n",
      "  0) i like it but i love my ass (p=0.000000) [in data = 0]\n",
      "  1) i like it but i love my ass like a baby (p=0.000000) [in data = 0]\n",
      "  0) can you teach me how to use this meme ? (p=0.000000) [in data = 0]\n",
      "  1) can you teach me how to use a condom ? (p=0.000000) [in data = 0]\n",
      "  0) hi i'm ricky bobby if you want to play with me , i'm a fag (p=0.000000) [in data = 0]\n",
      "  0) i just hate the song of my music (p=0.000000) [in data = 0]\n",
      "  1) i just hate the song of my generation (p=0.000000) [in data = 0]\n",
      "  0) i see you need some of my body (p=0.000000) [in data = 0]\n",
      "  1) i see you need a . . . . duct tape (p=0.000000) [in data = 0]\n",
      "  0) hey guys (p=0.000057) [in data = 1]\n",
      "  1) hey guys , i just farted . (p=0.000000) [in data = 0]\n",
      "  0) i don't always have a penis but when i do some (p=0.000000) [in data = 0]\n",
      "  1) i don't always have a penis but when i do , unimaginable of the balls (p=0.000000) [in data = 0]\n",
      "  0) do you want a bike to make me a cow (p=0.000000) [in data = 0]\n",
      "  1) do you want a bike to make me a cow ? ! (p=0.000000) [in data = 0]\n",
      "  0) hey i just met you , and this is crazy . . . but i need to have (p=0.000000) [in data = 0]\n",
      "  1) hey i just met you , and this is crazy . . . but i need to have (p=0.000000) [in data = 0]\n",
      "  0) that's the new album you can't see (p=0.000000) [in data = 0]\n",
      "  1) that's the new album you got me some (p=0.000000) [in data = 0]\n",
      "number of captions in data = 1\n",
      "Captions for image one-does-not-simply.jpg:\n",
      "  0) one does not simply walk into a bar . (p=0.000030) [in data = 0]\n",
      "  1) one does not simply walk into the bar (p=0.000010) [in data = 0]\n",
      "  0) one does not simply go on the internet and stop watching (p=0.000000) [in data = 0]\n",
      "  1) one does not simply go on the internet and stop watching the video (p=0.000000) [in data = 0]\n",
      "  0) one does not simply eat breakfast without french fries (p=0.000000) [in data = 0]\n",
      "  1) one does not simply eat breakfast without my bed (p=0.000000) [in data = 0]\n",
      "  0) one does not simply just get laid (p=0.000022) [in data = 0]\n",
      "  1) one does not simply take my fingers (p=0.000001) [in data = 0]\n",
      "  0) one does not simply call a troll (p=0.000008) [in data = 0]\n",
      "  1) one does not simply take the heat away (p=0.000000) [in data = 0]\n",
      "  0) one does not simply make a witty meme (p=0.000002) [in data = 0]\n",
      "  1) one does not simply make a good meme for a meme (p=0.000000) [in data = 0]\n",
      "  0) one does not simply walk into mordor (p=0.003812) [in data = 1]\n",
      "  1) one does not simply walk into mordor to play (p=0.000001) [in data = 0]\n",
      "  0) one does not simply take a shower (p=0.000219) [in data = 0]\n",
      "  1) one does not simply take a shower and get a beer (p=0.000000) [in data = 0]\n",
      "  0) one does not simply take my picture (p=0.000005) [in data = 0]\n",
      "  1) one does not simply get laid at the beginning (p=0.000000) [in data = 0]\n",
      "  0) one does not simply leave the room (p=0.000017) [in data = 0]\n",
      "  1) one does not simply leave the room in the room (p=0.000000) [in data = 0]\n",
      "number of captions in data = 1\n",
      "Captions for image y-u-no.jpg:\n",
      "  0) mada y u no work at the gym ? (p=0.000000) [in data = 0]\n",
      "  1) mada y u no work at the gym (p=0.000000) [in data = 0]\n",
      "  0) why u so arab (p=0.000018) [in data = 0]\n",
      "  1) why u no love you (p=0.000000) [in data = 0]\n",
      "  0) mehak y u no make good work ? (p=0.000000) [in data = 0]\n",
      "  1) mehak y u no make me a sandwich (p=0.000000) [in data = 0]\n",
      "  0) y u no stop bleeding ? ? ! ? ! (p=0.000000) [in data = 0]\n",
      "  1) y u no stop bleeding ? ? ! ! (p=0.000000) [in data = 0]\n",
      "  0) y u no work ? (p=0.001859) [in data = 1]\n",
      "  1) y u no work ? ! (p=0.000453) [in data = 0]\n",
      "  0) y u no (p=0.000701) [in data = 1]\n",
      "  1) y u no do hw ? (p=0.000015) [in data = 0]\n",
      "  0) justin bieber y u no have guns ? (p=0.000001) [in data = 0]\n",
      "  1) justin bieber y u no have guns (p=0.000001) [in data = 0]\n",
      "  0) y u no get into a concert ? (p=0.000000) [in data = 0]\n",
      "  1) y u no get into a concert ? ! ? (p=0.000000) [in data = 0]\n",
      "  0) y u (p=0.000166) [in data = 1]\n",
      "  1) y u no have girlfriend ? (p=0.000007) [in data = 0]\n",
      "  0) y u no play with me ? (p=0.000005) [in data = 0]\n",
      "  1) y u no go alone ? (p=0.000004) [in data = 0]\n",
      "number of captions in data = 3\n",
      "(total number of captions in data = 5) percent in data = 0.084746\n"
     ]
    }
   ],
   "source": [
    "with tf.Session(graph=g) as sess:\n",
    "    # Load the model from checkpoint.\n",
    "    restore_fn(sess)\n",
    "    \n",
    "    # Prepare the caption generator. Here we are implicitly using the default\n",
    "    # beam search parameters. See caption_generator.py for a description of the\n",
    "    # available beam search parameters.\n",
    "    generator = caption_generator.CaptionGenerator(model, vocab, beam_size=config.beam_size)\n",
    "    num_in_data_total = 0\n",
    "    num_captions = 0\n",
    "    for i,filename in enumerate(filenames):\n",
    "      with tf.gfile.GFile(filename, \"rb\") as f:\n",
    "        image = f.read()\n",
    "      print(\"Captions for image %s:\" % os.path.basename(filenames[i]))\n",
    "      num_in_data = 0\n",
    "      for k in range(10):\n",
    "          captions = generator.beam_search(sess, image)\n",
    "            \n",
    "          for i, caption in enumerate(captions):\n",
    "            # Ignore begin and end words.\n",
    "            sentence = [vocab.id_to_word(w) for w in caption.sentence[1:-1]]\n",
    "            sentence = \" \".join(sentence)\n",
    "            in_data = 0\n",
    "            if b_any(sentence in capt for capt in data_captions):\n",
    "                in_data = 1\n",
    "                num_in_data += 1\n",
    "                num_in_data_total += 1\n",
    "                num_captions += 1\n",
    "            else:\n",
    "                num_captions += 1\n",
    "            print(\"  %d) %s (p=%f) [in data = %d]\" % (i, sentence, math.exp(caption.logprob),in_data))\n",
    "      print(\"number of captions in data = %d\" % (num_in_data))\n",
    "    print(\"(total number of captions in data = %d) percent in data = %f\" % (num_in_data_total,(num_in_data_total/num_captions)))"
   ]
  },
  {
   "cell_type": "code",
   "execution_count": null,
   "metadata": {
    "collapsed": true
   },
   "outputs": [],
   "source": []
  },
  {
   "cell_type": "code",
   "execution_count": null,
   "metadata": {
    "collapsed": true
   },
   "outputs": [],
   "source": []
  },
  {
   "cell_type": "code",
   "execution_count": null,
   "metadata": {
    "collapsed": true
   },
   "outputs": [],
   "source": [
    "from IPython.display import clear_output, Image, display, HTML\n",
    "\n",
    "def strip_consts(graph_def, max_const_size=32):\n",
    "    \"\"\"Strip large constant values from graph_def.\"\"\"\n",
    "    strip_def = tf.GraphDef()\n",
    "    for n0 in graph_def.node:\n",
    "        n = strip_def.node.add() \n",
    "        n.MergeFrom(n0)\n",
    "        if n.op == 'Const':\n",
    "            tensor = n.attr['value'].tensor\n",
    "            size = len(tensor.tensor_content)\n",
    "            if size > max_const_size:\n",
    "                tensor.tensor_content = \"<stripped %d bytes>\"%size\n",
    "    return strip_def\n",
    "\n",
    "def show_graph(graph_def, max_const_size=32):\n",
    "    \"\"\"Visualize TensorFlow graph.\"\"\"\n",
    "    if hasattr(graph_def, 'as_graph_def'):\n",
    "        graph_def = graph_def.as_graph_def()\n",
    "    strip_def = strip_consts(graph_def, max_const_size=max_const_size)\n",
    "    code = \"\"\"\n",
    "        <script>\n",
    "          function load() {{\n",
    "            document.getElementById(\"{id}\").pbtxt = {data};\n",
    "          }}\n",
    "        </script>\n",
    "        <link rel=\"import\" href=\"https://tensorboard.appspot.com/tf-graph-basic.build.html\" onload=load()>\n",
    "        <div style=\"height:600px\">\n",
    "          <tf-graph-basic id=\"{id}\"></tf-graph-basic>\n",
    "        </div>\n",
    "    \"\"\".format(data=repr(str(strip_def)), id='graph'+str(np.random.rand()))\n",
    "\n",
    "    iframe = \"\"\"\n",
    "        <iframe seamless style=\"width:1000px;height:620px;border:0\" srcdoc=\"{}\"></iframe>\n",
    "    \"\"\".format(code.replace('\"', '&quot;'))\n",
    "    display(HTML(iframe))"
   ]
  },
  {
   "cell_type": "code",
   "execution_count": null,
   "metadata": {
    "collapsed": true
   },
   "outputs": [],
   "source": [
    "show_graph(g)"
   ]
  },
  {
   "cell_type": "code",
   "execution_count": null,
   "metadata": {
    "collapsed": true
   },
   "outputs": [],
   "source": []
  },
  {
   "cell_type": "code",
   "execution_count": null,
   "metadata": {
    "collapsed": true
   },
   "outputs": [],
   "source": [
    "OLD_CHECKPOINT_FILE = \"trainlogSGD/model.ckpt-600000\"\n",
    "NEW_CHECKPOINT_FILE = \"trainlogSGDNEW/model.ckpt-600000\"\n",
    "\n",
    "import tensorflow as tf\n",
    "vars_to_rename = {\n",
    "    \"lstm/basic_lstm_cell/weights\": \"lstm/basic_lstm_cell/kernel\",\n",
    "    \"lstm/basic_lstm_cell/biases\": \"lstm/basic_lstm_cell/bias\",\n",
    "}\n",
    "new_checkpoint_vars = {}\n",
    "reader = tf.train.NewCheckpointReader(OLD_CHECKPOINT_FILE)\n",
    "for old_name in reader.get_variable_to_shape_map():\n",
    "  if old_name in vars_to_rename:\n",
    "    new_name = vars_to_rename[old_name]\n",
    "  else:\n",
    "    new_name = old_name\n",
    "  new_checkpoint_vars[new_name] = tf.Variable(reader.get_tensor(old_name))\n",
    "\n",
    "init = tf.global_variables_initializer()\n",
    "saver = tf.train.Saver(new_checkpoint_vars)\n",
    "\n",
    "with tf.Session() as sess:\n",
    "  sess.run(init)\n",
    "  saver.save(sess, NEW_CHECKPOINT_FILE)"
   ]
  },
  {
   "cell_type": "code",
   "execution_count": null,
   "metadata": {
    "collapsed": true
   },
   "outputs": [],
   "source": []
  }
 ],
 "metadata": {
  "kernelspec": {
   "display_name": "Python 2",
   "language": "python",
   "name": "python2"
  },
  "language_info": {
   "codemirror_mode": {
    "name": "ipython",
    "version": 2
   },
   "file_extension": ".py",
   "mimetype": "text/x-python",
   "name": "python",
   "nbconvert_exporter": "python",
   "pygments_lexer": "ipython2",
   "version": "2.7.3"
  }
 },
 "nbformat": 4,
 "nbformat_minor": 2
}
